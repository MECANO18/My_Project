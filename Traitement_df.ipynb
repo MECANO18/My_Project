{
 "cells": [
  {
   "cell_type": "code",
   "execution_count": 1,
   "id": "f52c894e",
   "metadata": {},
   "outputs": [],
   "source": [
    "#IMPORTATION\n",
    "import os\n",
    "os.chdir('C:\\\\Users\\\\SAMOU\\\\Documents\\\\Data_Science')\n",
    "import numpy as np\n",
    "import pandas as pd\n",
    "import matplotlib.pyplot as plt\n",
    "from openpyxl import load_workbook\n",
    "import xlwings as xw\n",
    "import xlsxwriter\n",
    "P = pd.ExcelFile(\"Del_Annuel.xlsx\")"
   ]
  },
  {
   "cell_type": "code",
   "execution_count": 2,
   "id": "b3f9928c",
   "metadata": {},
   "outputs": [],
   "source": [
    "F=P.parse('PV')"
   ]
  },
  {
   "cell_type": "code",
   "execution_count": 3,
   "id": "3218e2a3",
   "metadata": {},
   "outputs": [],
   "source": [
    "D=F.iloc[9,:].values"
   ]
  },
  {
   "cell_type": "code",
   "execution_count": 4,
   "id": "3695c9ad",
   "metadata": {},
   "outputs": [],
   "source": [
    "F.dropna(inplace=True)\n",
    "F.columns=D\n",
    "F.columns=F.columns.fillna(\"Decision\")\n",
    "F.rename(columns={'RESULTAT': 'Total_Credit'},inplace=True)\n"
   ]
  },
  {
   "cell_type": "code",
   "execution_count": 5,
   "id": "5170344a",
   "metadata": {},
   "outputs": [],
   "source": [
    "F=F.reset_index(drop=True)"
   ]
  },
  {
   "cell_type": "code",
   "execution_count": 6,
   "id": "68f83cea",
   "metadata": {},
   "outputs": [],
   "source": [
    "F = F.sort_values(by=['Total_Credit','Nom','Prénom'], ascending=[False, True, True])\n"
   ]
  },
  {
   "cell_type": "code",
   "execution_count": null,
   "id": "66c79e60",
   "metadata": {},
   "outputs": [],
   "source": []
  },
  {
   "cell_type": "code",
   "execution_count": 7,
   "id": "fd0262db",
   "metadata": {},
   "outputs": [],
   "source": [
    "I = np.where(F.Decision == 'Passage Définitif')\n",
    "I = F.iloc[I]\n",
    "J = np.where(F.Decision == 'Passage Conditionnel')\n",
    "J = F.iloc[J]\n",
    "K = np.where(F.Decision == 'Redouble')\n",
    "K = F.iloc[K]\n",
    "L = np.where(F.Decision == 'Exclu')\n",
    "L = F.iloc[L]\n",
    "\n"
   ]
  },
  {
   "cell_type": "code",
   "execution_count": 8,
   "id": "a7862249",
   "metadata": {},
   "outputs": [
    {
     "data": {
      "text/plain": [
       "'R = F.Decision.value_counts()\\nR = pd.DataFrame(R)\\nR.rename(columns={\\'Decision\\': \\'Nombre_Etudiants\\'},inplace=True)\\n\\np1=\\'{.1.f}\\'.format((R.Nombre_Etudiants[\\'Passage Définitif\\']/np.sum(R.Nombre_Etudiants))*100)\\np2=\"{.1f}\".format((R.Nombre_Etudiants[\\'Passage Conditionnel\\']/np.sum(R.Nombre_Etudiants))*100)\\np3=\"{.1f}\".format((R.Nombre_Etudiants[\\'Redouble\\']/np.sum(R.Nombre_Etudiants))*100)\\np4=\"{.1f}\".format((R.Nombre_Etudiants[\\'Exclu\\']/np.sum(R.Nombre_Etudiants))*100)\\n\\np=[p1,p2,p3,p4]\\n'"
      ]
     },
     "execution_count": 8,
     "metadata": {},
     "output_type": "execute_result"
    }
   ],
   "source": [
    "\"\"\"R = F.Decision.value_counts()\n",
    "R = pd.DataFrame(R)\n",
    "R.rename(columns={'Decision': 'Nombre_Etudiants'},inplace=True)\n",
    "\n",
    "p1='{.1.f}'.format((R.Nombre_Etudiants['Passage Définitif']/np.sum(R.Nombre_Etudiants))*100)\n",
    "p2=\"{.1f}\".format((R.Nombre_Etudiants['Passage Conditionnel']/np.sum(R.Nombre_Etudiants))*100)\n",
    "p3=\"{.1f}\".format((R.Nombre_Etudiants['Redouble']/np.sum(R.Nombre_Etudiants))*100)\n",
    "p4=\"{.1f}\".format((R.Nombre_Etudiants['Exclu']/np.sum(R.Nombre_Etudiants))*100)\n",
    "\n",
    "p=[p1,p2,p3,p4]\n",
    "\"\"\""
   ]
  },
  {
   "cell_type": "code",
   "execution_count": 9,
   "id": "a88decc5",
   "metadata": {},
   "outputs": [
    {
     "data": {
      "text/plain": [
       "'V = R.Nombre_Etudiants.values\\n#for i in range(len(R.index)):\\ndef func(allvalues):\\n    absolute = int(allvalues / 100.*np.sum(allvalues))\\n    return \"{:.1f}%\\n({:d} g)\".format(allvalues, absolute)'"
      ]
     },
     "execution_count": 9,
     "metadata": {},
     "output_type": "execute_result"
    }
   ],
   "source": [
    "\"\"\"V = R.Nombre_Etudiants.values\n",
    "#for i in range(len(R.index)):\n",
    "def func(allvalues):\n",
    "    absolute = int(allvalues / 100.*np.sum(allvalues))\n",
    "    return \"{:.1f}%\\n({:d} g)\".format(allvalues, absolute)\"\"\""
   ]
  },
  {
   "cell_type": "code",
   "execution_count": 10,
   "id": "c057f865",
   "metadata": {},
   "outputs": [
    {
     "data": {
      "text/html": [
       "<div>\n",
       "<style scoped>\n",
       "    .dataframe tbody tr th:only-of-type {\n",
       "        vertical-align: middle;\n",
       "    }\n",
       "\n",
       "    .dataframe tbody tr th {\n",
       "        vertical-align: top;\n",
       "    }\n",
       "\n",
       "    .dataframe thead th {\n",
       "        text-align: right;\n",
       "    }\n",
       "</style>\n",
       "<table border=\"1\" class=\"dataframe\">\n",
       "  <thead>\n",
       "    <tr style=\"text-align: right;\">\n",
       "      <th></th>\n",
       "      <th>Nombre_Etudiants</th>\n",
       "      <th>Pourcentages</th>\n",
       "    </tr>\n",
       "  </thead>\n",
       "  <tbody>\n",
       "    <tr>\n",
       "      <th>Passage Définitif</th>\n",
       "      <td>27.0</td>\n",
       "      <td>60.0</td>\n",
       "    </tr>\n",
       "    <tr>\n",
       "      <th>Redouble</th>\n",
       "      <td>11.0</td>\n",
       "      <td>13.0</td>\n",
       "    </tr>\n",
       "    <tr>\n",
       "      <th>Passage Conditionnel</th>\n",
       "      <td>6.0</td>\n",
       "      <td>25.0</td>\n",
       "    </tr>\n",
       "    <tr>\n",
       "      <th>Exclu</th>\n",
       "      <td>1.0</td>\n",
       "      <td>2.0</td>\n",
       "    </tr>\n",
       "    <tr>\n",
       "      <th>Total</th>\n",
       "      <td>45.0</td>\n",
       "      <td>100.0</td>\n",
       "    </tr>\n",
       "  </tbody>\n",
       "</table>\n",
       "</div>"
      ],
      "text/plain": [
       "                      Nombre_Etudiants  Pourcentages\n",
       "Passage Définitif                 27.0          60.0\n",
       "Redouble                          11.0          13.0\n",
       "Passage Conditionnel               6.0          25.0\n",
       "Exclu                              1.0           2.0\n",
       "Total                             45.0         100.0"
      ]
     },
     "execution_count": 10,
     "metadata": {},
     "output_type": "execute_result"
    }
   ],
   "source": [
    "R = F.Decision.value_counts()\n",
    "R = pd.DataFrame(R)\n",
    "R.rename(columns={'Decision': 'Nombre_Etudiants'},inplace=True)\n",
    "\n",
    "p1=(R.Nombre_Etudiants['Passage Définitif']/sum(R.Nombre_Etudiants)) * 100\n",
    "p2=(R.Nombre_Etudiants['Passage Conditionnel'] /sum(R.Nombre_Etudiants))* 100\n",
    "\n",
    "p3=(R.Nombre_Etudiants['Redouble'] /sum(R.Nombre_Etudiants))* 100\n",
    "p4=(R.Nombre_Etudiants['Exclu'] /sum(R.Nombre_Etudiants))* 100\n",
    "p=[p1,p2,p3,p4]\n",
    "\n",
    "R = R.assign(Pourcentages=[p1,p2,p3,p4])\n",
    "R.loc['Total']=[sum(R.Nombre_Etudiants),sum(p)]\n",
    "\n",
    "r=np.where(R.Pourcentages[:4]-R.Pourcentages[:4].round() == (R.Pourcentages[:4]-R.Pourcentages[:4].round()).max())\n",
    "R.Pourcentages[:4].iloc[r] = R.Pourcentages[:4].iloc[r].round() + sum(R.Pourcentages[:4]-R.Pourcentages[:4].round())\n",
    "R.Pourcentages[:4].iloc[r]\n",
    "R.Pourcentages = R.Pourcentages.round()\n",
    "R"
   ]
  },
  {
   "cell_type": "code",
   "execution_count": 11,
   "id": "d3d19652",
   "metadata": {},
   "outputs": [],
   "source": [
    "writer = pd.ExcelWriter(\"Déliberation.xlsx\", engine=\"xlsxwriter\")\n",
    "F.to_excel(writer, \"Resultat_Globaux\")\n",
    "R.to_excel(writer, \"Graphique_Resultats_Globaux\")\n",
    "writer.save()"
   ]
  },
  {
   "cell_type": "code",
   "execution_count": 12,
   "id": "f8766221",
   "metadata": {},
   "outputs": [
    {
     "data": {
      "image/png": "[encoded data removed]",
      "text/plain": [
       "<Figure size 1080x360 with 1 Axes>"
      ]
     },
     "metadata": {},
     "output_type": "display_data"
    }
   ],
   "source": [
    "colors = ('gold','cyan','pink', 'grey')\n",
    "wp = {'linewidth' : 1, 'edgecolor' :  'green'}\n",
    "fig, ax = plt.subplots(figsize = (15, 5))\n",
    "wedges, texts, autotexts = ax.pie(R.Pourcentages[:4],labels=R[:4].index, \n",
    "                                  explode=(0.05,0.05,0.05,0.05),\n",
    "        autopct = '%1.1f%%', startangle=90, shadow=True,\n",
    "        wedgeprops = wp, textprops = dict(color='darkblue'), colors=colors)\n",
    "ax.legend(wedges, R[:4].index, title = 'Resultats Globaux', loc= 'center left', \n",
    "          bbox_to_anchor = (1, 0, 0.5, 1))\n",
    "\n",
    "plt.setp(autotexts, size = 8, weight = 'bold')\n",
    "ax.set_title('Diagramme circulaire des resultats globaux')\n",
    "plt.axis('equal')\n",
    "plt.show()"
   ]
  },
  {
   "cell_type": "code",
   "execution_count": 13,
   "id": "7dcee66f",
   "metadata": {
    "scrolled": true
   },
   "outputs": [
    {
     "data": {
      "text/plain": [
       "<Sheet [Déliberation.xlsx]Graphique_Resultats_Globaux>"
      ]
     },
     "execution_count": 13,
     "metadata": {},
     "output_type": "execute_result"
    }
   ],
   "source": [
    "\"\"\"\n",
    "wb=xw.Book(r'C:\\Users\\SAMOU\\Documents\\Data_Science\\Déliberation.xlsx')\n",
    "sht = wb.sheets[1]\n",
    "#xw_pf.sheets.add('Diagramme des resultats globaux')\n",
    "#sheet = ('Graphique_Resultats_Globaux')\n",
    "sht.pictures.add(fig, name='Graphique_Resultats_Globaux', update = True)\n",
    "\n",
    "plt.show()\n",
    "wb.sheets[1]\"\"\""
   ]
  },
  {
   "cell_type": "code",
   "execution_count": 16,
   "id": "8922fc3e",
   "metadata": {},
   "outputs": [],
   "source": [
    "writer = pd.ExcelWriter(\"Déliberation.xlsx\", engine=\"xlsxwriter\")\n",
    "F.to_excel(writer, \"Resultat_Globaux\")\n",
    "R.to_excel(writer, \"Graphique_Resultats_Globaux\")\n",
    "writer.save()\n",
    "\n",
    "delib = xw.Book(\"Déliberation.xlsx\")\n",
    "f = delib.sheets(\"Graphique_Resultats_Globaux\")\n",
    "ax = ax.get_figure()\n",
    "f.pictures.add(ax, name = \"Graphique_Resultats_Globaux\", update = True)\n",
    "plt.show()"
   ]
  },
  {
   "cell_type": "code",
   "execution_count": null,
   "id": "2de1a56f",
   "metadata": {},
   "outputs": [],
   "source": []
  },
  {
   "cell_type": "code",
   "execution_count": null,
   "id": "240175f2",
   "metadata": {},
   "outputs": [],
   "source": []
  },
  {
   "cell_type": "code",
   "execution_count": null,
   "id": "f9454edf",
   "metadata": {},
   "outputs": [],
   "source": []
  },
  {
   "cell_type": "code",
   "execution_count": null,
   "id": "0107928a",
   "metadata": {},
   "outputs": [],
   "source": []
  }
 ],
 "metadata": {
  "kernelspec": {
   "display_name": "Python 3 (ipykernel)",
   "language": "python",
   "name": "python3"
  },
  "language_info": {
   "codemirror_mode": {
    "name": "ipython",
    "version": 3
   },
   "file_extension": ".py",
   "mimetype": "text/x-python",
   "name": "python",
   "nbconvert_exporter": "python",
   "pygments_lexer": "ipython3",
   "version": "3.9.7"
  }
 },
 "nbformat": 4,
 "nbformat_minor": 5
}
